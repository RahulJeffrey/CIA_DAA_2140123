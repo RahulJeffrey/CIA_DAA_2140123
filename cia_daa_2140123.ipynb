{
 "cells": [
  {
   "cell_type": "markdown",
   "id": "521629b9",
   "metadata": {},
   "source": [
    "# CIA-1 "
   ]
  },
  {
   "cell_type": "markdown",
   "id": "8d11eec7",
   "metadata": {},
   "source": [
    "__Date : 16/01/24__"
   ]
  },
  {
   "cell_type": "markdown",
   "id": "7ba52461",
   "metadata": {},
   "source": [
    "___1. Stack using array___"
   ]
  },
  {
   "cell_type": "code",
   "execution_count": 3,
   "id": "55b20444",
   "metadata": {},
   "outputs": [
    {
     "name": "stdout",
     "output_type": "stream",
     "text": [
      "3\n",
      "3\n",
      "2\n"
     ]
    }
   ],
   "source": [
    "class StackArray:\n",
    "    def __init__(self):\n",
    "        self.stack = []\n",
    "\n",
    "    def is_empty(self):\n",
    "        return len(self.stack) == 0\n",
    "\n",
    "    def push(self, item):\n",
    "        self.stack.append(item)\n",
    "\n",
    "    def pop(self):\n",
    "        if not self.is_empty():\n",
    "            return self.stack.pop()\n",
    "\n",
    "    def peek(self):\n",
    "        if not self.is_empty():\n",
    "            return self.stack[-1]\n",
    "\n",
    "    def size(self):\n",
    "        return len(self.stack)\n",
    "\n",
    "stack_array = StackArray()\n",
    "stack_array.push(1)\n",
    "stack_array.push(2)\n",
    "stack_array.push(3)\n",
    "\n",
    "print(stack_array.peek())  # Output: 3\n",
    "print(stack_array.pop())   # Output: 3\n",
    "print(stack_array.size())  # Output: 2"
   ]
  },
  {
   "cell_type": "markdown",
   "id": "e1d481f7",
   "metadata": {},
   "source": [
    "___2. Stack using linked list___"
   ]
  },
  {
   "cell_type": "code",
   "execution_count": 4,
   "id": "e1e2b419",
   "metadata": {},
   "outputs": [
    {
     "name": "stdout",
     "output_type": "stream",
     "text": [
      "3\n",
      "3\n",
      "2\n"
     ]
    }
   ],
   "source": [
    "class Node:\n",
    "    def __init__(self, data):\n",
    "        self.data = data\n",
    "        self.next = None\n",
    "\n",
    "class StackLinkedList:\n",
    "    def __init__(self):\n",
    "        self.top = None\n",
    "\n",
    "    def is_empty(self):\n",
    "        return self.top is None\n",
    "\n",
    "    def push(self, item):\n",
    "        new_node = Node(item)\n",
    "        new_node.next = self.top\n",
    "        self.top = new_node\n",
    "\n",
    "    def pop(self):\n",
    "        if not self.is_empty():\n",
    "            popped = self.top\n",
    "            self.top = self.top.next\n",
    "            return popped.data\n",
    "\n",
    "    def peek(self):\n",
    "        if not self.is_empty():\n",
    "            return self.top.data\n",
    "\n",
    "    def size(self):\n",
    "        current = self.top\n",
    "        count = 0\n",
    "        while current:\n",
    "            count += 1\n",
    "            current = current.next\n",
    "        return count\n",
    "\n",
    "stack_linked_list = StackLinkedList()\n",
    "stack_linked_list.push(1)\n",
    "stack_linked_list.push(2)\n",
    "stack_linked_list.push(3)\n",
    "\n",
    "print(stack_linked_list.peek())  # Output: 3\n",
    "print(stack_linked_list.pop())   # Output: 3\n",
    "print(stack_linked_list.size())  # Output: 2"
   ]
  },
  {
   "cell_type": "markdown",
   "id": "554eeaf8",
   "metadata": {},
   "source": [
    "___3. Queue using array___"
   ]
  },
  {
   "cell_type": "code",
   "execution_count": 7,
   "id": "aca4d585",
   "metadata": {},
   "outputs": [
    {
     "name": "stdout",
     "output_type": "stream",
     "text": [
      "1\n",
      "1\n",
      "2\n"
     ]
    }
   ],
   "source": [
    "class QueueArray:\n",
    "    def __init__(self):\n",
    "        self.queue = []\n",
    "\n",
    "    def is_empty(self):\n",
    "        return len(self.queue) == 0\n",
    "\n",
    "    def enqueue(self, item):\n",
    "        self.queue.append(item)\n",
    "\n",
    "    def dequeue(self):\n",
    "        if not self.is_empty():\n",
    "            return self.queue.pop(0)\n",
    "\n",
    "    def front(self):\n",
    "        if not self.is_empty():\n",
    "            return self.queue[0]\n",
    "\n",
    "    def size(self):\n",
    "        return len(self.queue)\n",
    "\n",
    "queue_array = QueueArray()\n",
    "queue_array.enqueue(1)\n",
    "queue_array.enqueue(2)\n",
    "queue_array.enqueue(3)\n",
    "\n",
    "print(queue_array.front())  # Output: 1\n",
    "print(queue_array.dequeue())  # Output: 1\n",
    "print(queue_array.size())  # Output: 2\n"
   ]
  },
  {
   "cell_type": "markdown",
   "id": "cda9e46b",
   "metadata": {},
   "source": [
    "___4. Queue using linked list___"
   ]
  },
  {
   "cell_type": "code",
   "execution_count": 10,
   "id": "32d6d73f",
   "metadata": {},
   "outputs": [
    {
     "name": "stdout",
     "output_type": "stream",
     "text": [
      "1\n",
      "1\n",
      "2\n"
     ]
    }
   ],
   "source": [
    "class Node:\n",
    "    def __init__(self, data):\n",
    "        self.data = data\n",
    "        self.next = None\n",
    "\n",
    "class QueueLinkedList:\n",
    "    def __init__(self):\n",
    "        self.front = self.rear = None\n",
    "\n",
    "    def is_empty(self):\n",
    "        return self.front is None\n",
    "\n",
    "    def enqueue(self, item):\n",
    "        new_node = Node(item)\n",
    "        if self.is_empty():\n",
    "            self.front = self.rear = new_node\n",
    "        else:\n",
    "            self.rear.next = new_node\n",
    "            self.rear = new_node\n",
    "\n",
    "    def dequeue(self):\n",
    "        if not self.is_empty():\n",
    "            popped = self.front\n",
    "            self.front = popped.next\n",
    "            if self.front is None:\n",
    "                self.rear = None\n",
    "            return popped.data\n",
    "\n",
    "    def get_front(self):  # Rename the method to get_front\n",
    "        if not self.is_empty():\n",
    "            return self.front.data\n",
    "\n",
    "    def size(self):\n",
    "        current = self.front\n",
    "        count = 0\n",
    "        while current:\n",
    "            count += 1\n",
    "            current = current.next\n",
    "        return count\n",
    "\n",
    "queue_linked_list = QueueLinkedList()\n",
    "queue_linked_list.enqueue(1)\n",
    "queue_linked_list.enqueue(2)\n",
    "queue_linked_list.enqueue(3)\n",
    "\n",
    "print(queue_linked_list.get_front())  # Output: 1\n",
    "print(queue_linked_list.dequeue())     # Output: 1\n",
    "print(queue_linked_list.size())        # Output: 2\n"
   ]
  },
  {
   "cell_type": "markdown",
   "id": "c47598e4",
   "metadata": {},
   "source": [
    "___5. Priority queue___"
   ]
  },
  {
   "cell_type": "code",
   "execution_count": 13,
   "id": "9317115f",
   "metadata": {},
   "outputs": [
    {
     "name": "stdout",
     "output_type": "stream",
     "text": [
      "Handling: Task 2  Remaining tasks: 5\n",
      "Handling: Task 3  Remaining tasks: 4\n",
      "Handling: Task 6  Remaining tasks: 3\n",
      "Handling: Task 1  Remaining tasks: 2\n",
      "Handling: Task 5  Remaining tasks: 1\n",
      "Handling: Task 4  Remaining tasks: 0\n"
     ]
    }
   ],
   "source": [
    "import heapq\n",
    "\n",
    "class PriorityQueue:\n",
    "    def __init__(self):\n",
    "        self.heap = []\n",
    "\n",
    "    def is_empty(self):\n",
    "        return len(self.heap) == 0\n",
    "\n",
    "    def enqueue(self, item, priority):\n",
    "        heapq.heappush(self.heap, (priority, item))\n",
    "\n",
    "    def dequeue(self):\n",
    "        if not self.is_empty():\n",
    "            return heapq.heappop(self.heap)[1]\n",
    "\n",
    "    def get_front(self):\n",
    "        if not self.is_empty():\n",
    "            return self.heap[0][1]\n",
    "\n",
    "    def size(self):\n",
    "        return len(self.heap)\n",
    "\n",
    "# Test PriorityQueue with task handling visualization\n",
    "priority_queue = PriorityQueue()\n",
    "\n",
    "# Enqueue tasks with priorities\n",
    "priority_queue.enqueue(\"Task 1\", 3)\n",
    "priority_queue.enqueue(\"Task 2\", 1)\n",
    "priority_queue.enqueue(\"Task 3\", 2)\n",
    "priority_queue.enqueue(\"Task 4\", 5)\n",
    "priority_queue.enqueue(\"Task 5\", 4)\n",
    "priority_queue.enqueue(\"Task 6\", 2)\n",
    "\n",
    "# Dequeue and visualize task handling\n",
    "while not priority_queue.is_empty():\n",
    "    print(f\"Handling: {priority_queue.dequeue()}  Remaining tasks: {priority_queue.size()}\")\n"
   ]
  },
  {
   "cell_type": "markdown",
   "id": "290cb2f5",
   "metadata": {},
   "source": [
    "___6. Circular queue___"
   ]
  },
  {
   "cell_type": "code",
   "execution_count": 11,
   "id": "83d44fc5",
   "metadata": {},
   "outputs": [
    {
     "name": "stdout",
     "output_type": "stream",
     "text": [
      "1\n",
      "1\n",
      "2\n"
     ]
    }
   ],
   "source": [
    "class CircularQueue:\n",
    "    def __init__(self, capacity):\n",
    "        self.queue = [None] * capacity\n",
    "        self.front = self.rear = -1\n",
    "        self.capacity = capacity\n",
    "\n",
    "    def is_empty(self):\n",
    "        return self.front == -1\n",
    "\n",
    "    def is_full(self):\n",
    "        return (self.rear + 1) % self.capacity == self.front\n",
    "\n",
    "    def enqueue(self, item):\n",
    "        if self.is_full():\n",
    "            return\n",
    "        if self.is_empty():\n",
    "            self.front = self.rear = 0\n",
    "        else:\n",
    "            self.rear = (self.rear + 1) % self.capacity\n",
    "        self.queue[self.rear] = item\n",
    "\n",
    "    def dequeue(self):\n",
    "        if self.is_empty():\n",
    "            return None\n",
    "        removed_item = self.queue[self.front]\n",
    "        if self.front == self.rear:\n",
    "            self.front = self.rear = -1\n",
    "        else:\n",
    "            self.front = (self.front + 1) % self.capacity\n",
    "        return removed_item\n",
    "\n",
    "    def get_front(self):\n",
    "        if not self.is_empty():\n",
    "            return self.queue[self.front]\n",
    "\n",
    "    def size(self):\n",
    "        if self.is_empty():\n",
    "            return 0\n",
    "        elif self.front <= self.rear:\n",
    "            return self.rear - self.front + 1\n",
    "        else:\n",
    "            return self.capacity - self.front + self.rear + 1\n",
    "\n",
    "# Test CircularQueue\n",
    "circular_queue = CircularQueue(3)\n",
    "circular_queue.enqueue(1)\n",
    "circular_queue.enqueue(2)\n",
    "circular_queue.enqueue(3)\n",
    "\n",
    "print(circular_queue.get_front())  # Output: 1\n",
    "print(circular_queue.dequeue())     # Output: 1\n",
    "print(circular_queue.size())        # Output: 2\n"
   ]
  }
 ],
 "metadata": {
  "kernelspec": {
   "display_name": "Python 3",
   "language": "python",
   "name": "python3"
  },
  "language_info": {
   "codemirror_mode": {
    "name": "ipython",
    "version": 3
   },
   "file_extension": ".py",
   "mimetype": "text/x-python",
   "name": "python",
   "nbconvert_exporter": "python",
   "pygments_lexer": "ipython3",
   "version": "3.8.8"
  }
 },
 "nbformat": 4,
 "nbformat_minor": 5
}
